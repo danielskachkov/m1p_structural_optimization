{
  "nbformat": 4,
  "nbformat_minor": 0,
  "metadata": {
    "colab": {
      "name": "WANN.ipynb",
      "provenance": [],
      "collapsed_sections": []
    },
    "kernelspec": {
      "name": "python3",
      "display_name": "Python 3"
    }
  },
  "cells": [
    {
      "cell_type": "code",
      "metadata": {
        "id": "TvmgjuZ7_UL3",
        "colab_type": "code",
        "colab": {}
      },
      "source": [
        "import numpy as np\n",
        "from matplotlib import pylab as plt\n",
        "from queue import Queue, PriorityQueue\n",
        "import random"
      ],
      "execution_count": 0,
      "outputs": []
    },
    {
      "cell_type": "code",
      "metadata": {
        "id": "CENs6s6eAEch",
        "colab_type": "code",
        "colab": {}
      },
      "source": [
        "def levenstein_dist(s1, s2):\n",
        "  A = np.zeros((len(s1) + 1, len(s2) + 1))\n",
        "  A[0, :] = np.arange(len(s2) + 1)\n",
        "  A[:, 0] = np.arange(len(s1) + 1)\n",
        "  for i in range(1, len(s1) + 1):\n",
        "    for j in range(1, len(s2) + 1):\n",
        "      A[i][j] = min(A[i - 1][j] + 1, A[i][j - 1] + 1, A[i-1][j-1] + (0 if s1[i-1] == s2[j-1] else 1))\n",
        "  return A[-1][-1]"
      ],
      "execution_count": 0,
      "outputs": []
    },
    {
      "cell_type": "code",
      "metadata": {
        "id": "y9qfFOEjA0hb",
        "colab_type": "code",
        "colab": {}
      },
      "source": [
        "class WANN:\n",
        "  class Node:\n",
        "    def __init__(self, function, parent):\n",
        "      self.children = PriorityQueue()\n",
        "      self.function = function\n",
        "      self.parent = parent\n",
        "\n",
        "    def __str__(self):\n",
        "      if self.children.empty():\n",
        "        return self.function.function.__name__ + '(x)'\n",
        "      return self.function.function.__name__ + '(' + ', '.join([str(child) for child in self.children.queue]) + ')'\n",
        "\n",
        "    def str_dfs(self):\n",
        "      return str(self.function.priority_key) + ''.join([child.str_dfs() for child in self.children.queue])\n",
        "\n",
        "    def __lt__(self, other):\n",
        "      return self.function < other.function\n",
        "\n",
        "    def replace_with_random_subtree(self, nodes_num, childs_num_bounds, function_list):\n",
        "      new_subtree = WANN()\n",
        "      new_subtree.generate(nodes_num, childs_num_bounds, function_list)\n",
        "      new_subtree.top_node.parent = self.parent\n",
        "      self.parent.children.queue.remove(self)\n",
        "      self.parent.children.put(new_subtree.top_node)\n",
        "\n",
        "    def calculate(self, x, param):\n",
        "      if self.children.empty():\n",
        "        return self.function.function(param*np.sum(x))\n",
        "      return self.function.function(param*np.sum([child.calculate(x, param) for child in self.children.queue]))\n",
        "\n",
        "  def __init__(self):\n",
        "    self.top_node = -1\n",
        "\n",
        "  def copy(self):\n",
        "    return self.get_subtree_copy(self.top_node)\n",
        "\n",
        "  def get_subtree_copy(self, top_node):\n",
        "    q = Queue()\n",
        "    new_wann = WANN()\n",
        "    new_wann.top_node = self.Node(top_node.function, -1)\n",
        "    for child in top_node.children.queue:\n",
        "      q.put((child, new_wann.top_node))\n",
        "    while not q.empty():\n",
        "      node, parent = q.get()\n",
        "      new_node = self.Node(node.function, parent)\n",
        "      parent.children.put(new_node)\n",
        "      for child in node.children.queue:\n",
        "        q.put((child, new_node))\n",
        "    return new_wann\n",
        "\n",
        "  def count_nodes(self):\n",
        "    nodes_num = 0\n",
        "    q = Queue()\n",
        "    q.put(self.top_node)\n",
        "    while not q.empty():\n",
        "      node = q.get()\n",
        "      nodes_num += 1\n",
        "      for child in node.children.queue:\n",
        "        q.put(child)\n",
        "    return nodes_num\n",
        "\n",
        "\n",
        "  def __str__(self):\n",
        "    return str(self.top_node)\n",
        "\n",
        "  def str_dfs(self):\n",
        "      return self.top_node.str_dfs()\n",
        "\n",
        "  def dist(self, other):\n",
        "    return levenstein_dist(self.str_dfs(), other.str_dfs())\n",
        "\n",
        "  def select_random_node(self):\n",
        "    q = Queue()\n",
        "    nodes = []\n",
        "    for child in self.top_node.children.queue:\n",
        "      q.put(child)\n",
        "    while not q.empty():\n",
        "      node = q.get()\n",
        "      nodes.append(node)\n",
        "      for child in node.children.queue:\n",
        "        q.put(child)\n",
        "    return random.choice(nodes)\n",
        "\n",
        "  def mutate(self, nodes_num, childs_num_bounds, function_list):\n",
        "    new_wann = self.copy()\n",
        "    node = new_wann.select_random_node()\n",
        "    node.replace_with_random_subtree(nodes_num, childs_num_bounds, function_list)\n",
        "    return self\n",
        "\n",
        "  def crossover(self, other):\n",
        "    new_wann = self.copy()\n",
        "    node1 = new_wann.select_random_node()\n",
        "    node2 = other.select_random_node()\n",
        "    new_subtree = other.get_subtree_copy(node2)\n",
        "    new_subtree.top_node.parent = node1.parent\n",
        "    node1.parent.children.queue.remove(node1)\n",
        "    node1.parent.children.put(new_subtree.top_node)\n",
        "    return new_wann\n",
        "  \n",
        "  def generate(self, nodes_num, childs_num_bounds, function_list):\n",
        "    if type(nodes_num) == type(tuple):\n",
        "      nodes_num = np.random.randint(nodes_num[0], nodes_num[1] + 1)\n",
        "    length = 1\n",
        "    self.top_node = self.Node(np.random.choice(function_list), -1)\n",
        "    q = []\n",
        "    q.append(self.top_node)\n",
        "    while length < nodes_num:\n",
        "      node = random.choice(q)\n",
        "      q.remove(node)\n",
        "      childs_num = np.random.randint(childs_num_bounds[0], childs_num_bounds[1] + 1)\n",
        "      for _ in range(childs_num):\n",
        "        new_child = self.Node(np.random.choice(function_list), node)\n",
        "        q.append(new_child)\n",
        "        node.children.put(new_child)\n",
        "      length += childs_num\n",
        "    return self\n",
        "\n",
        "  def calculate(self, x, param):\n",
        "    return self.top_node.calculate(x, param)\n",
        "\n",
        "  def err(self, X, Y, params):\n",
        "    error = 0\n",
        "    for param in params:\n",
        "      error += np.linalg.norm(Y - [self.calculate(x, param) for x in X])\n",
        "    return error/len(params)"
      ],
      "execution_count": 0,
      "outputs": []
    },
    {
      "cell_type": "code",
      "metadata": {
        "id": "ipiOazuLA7H2",
        "colab_type": "code",
        "colab": {}
      },
      "source": [
        "class Function:\n",
        "  def __init__(self, function, priority_key):\n",
        "    self.function = function\n",
        "    self.priority_key = priority_key\n",
        "  \n",
        "  def __lt__(self, other):\n",
        "    return self.priority_key < other.priority_key"
      ],
      "execution_count": 0,
      "outputs": []
    },
    {
      "cell_type": "code",
      "metadata": {
        "id": "_ZbQ1DU4qmmU",
        "colab_type": "code",
        "colab": {}
      },
      "source": [
        "def diam(T):\n",
        "  d = 0\n",
        "  for t1 in T:\n",
        "    for t2 in T:\n",
        "      d = max(d, t1.dist(t2))\n",
        "  return d\n",
        "\n",
        "def genetic_alg(X, Y, params, population_size, nodes_num, childs_bounds, mutation_nodes_num, function_list, mutations_num, crossovers_num, stagnation_diam, eps):\n",
        "  population = [WANN().generate(nodes_num, childs_bounds, function_list) for _ in range(population_size)]\n",
        "  while population[0].err(X, Y, params) > eps:\n",
        "    mutated = [wann.mutate(mutation_nodes_num, childs_bounds, function_list) for wann in random.sample(population, mutations_num)]\n",
        "    crossovered = []\n",
        "    for _ in range(crossovers_num):\n",
        "      parents = random.sample(population, 2)\n",
        "      crossovered.append(parents[0].crossover(parents[1]))\n",
        "    population = population + mutated + crossovered\n",
        "    population = sorted(population, key=lambda wann: wann.err(X, Y, params))[:population_size]\n",
        "    if diam(population) <= stagnation_diam:  #stagnation detected!\n",
        "      for wann in population[population_size//2:]:  #replace the wordst ones with generated\n",
        "        wann.generate(nodes_num, childs_bounds, function_list)\n",
        "  return str(population[0])"
      ],
      "execution_count": 0,
      "outputs": []
    },
    {
      "cell_type": "code",
      "metadata": {
        "id": "GfRLdciixleu",
        "colab_type": "code",
        "colab": {}
      },
      "source": [
        "functions = [np.sin, np.cos]\n",
        "k = 0\n",
        "function_list = []\n",
        "for f in functions:\n",
        "  function_list.append(Function(f, k))\n",
        "  k += 1"
      ],
      "execution_count": 0,
      "outputs": []
    },
    {
      "cell_type": "code",
      "metadata": {
        "id": "YFnp1eVjxsIJ",
        "colab_type": "code",
        "colab": {
          "base_uri": "https://localhost:8080/",
          "height": 282
        },
        "outputId": "7ba10915-704d-4b96-a717-50621ec8ad8e"
      },
      "source": [
        "X = np.arange(0, 15, 0.5)\n",
        "Y = np.sin(np.cos(X) + np.sin(X)) + np.random.randn(30)/15\n",
        "plt.plot(X, Y, 'o')\n",
        "plt.plot(np. arange(0, 15, 0.1), np.sin(np.cos(np.arange(0, 15, 0.1)) + np.sin(np.arange(0, 15, 0.1))))"
      ],
      "execution_count": 7,
      "outputs": [
        {
          "output_type": "execute_result",
          "data": {
            "text/plain": [
              "[<matplotlib.lines.Line2D at 0x7f317a824b70>]"
            ]
          },
          "metadata": {
            "tags": []
          },
          "execution_count": 7
        },
        {
          "output_type": "display_data",
          "data": {
            "image/png": "[encoded data removed]",
            "text/plain": [
              "<Figure size 432x288 with 1 Axes>"
            ]
          },
          "metadata": {
            "tags": []
          }
        }
      ]
    },
    {
      "cell_type": "code",
      "metadata": {
        "id": "Y9eTAj8D4jrB",
        "colab_type": "code",
        "outputId": "f03a973c-992c-4198-8b87-39ea2c85d420",
        "colab": {
          "base_uri": "https://localhost:8080/",
          "height": 34
        }
      },
      "source": [
        "genetic_alg(X, Y, [1], 10, 6, (1, 3), 3, function_list, 3, 3, 0, 1)"
      ],
      "execution_count": 14,
      "outputs": [
        {
          "output_type": "execute_result",
          "data": {
            "text/plain": [
              "'sin(sin(sin(sin(x), sin(x), cos(x))), cos(x))'"
            ]
          },
          "metadata": {
            "tags": []
          },
          "execution_count": 14
        }
      ]
    },
    {
      "cell_type": "code",
      "metadata": {
        "id": "lcwV2FIM4tqR",
        "colab_type": "code",
        "outputId": "8caac899-3982-4139-c20b-4bf8eb8cb19e",
        "colab": {
          "base_uri": "https://localhost:8080/",
          "height": 282
        }
      },
      "source": [
        "x = np.arange(0, 15, 0.1)\n",
        "plt.plot(x, np.sin(np.sin(np.sin(np.sin(x) + np.sin(x) + np.cos(x))) + np.cos(x)))\n",
        "plt.plot(X, Y, 'o')"
      ],
      "execution_count": 18,
      "outputs": [
        {
          "output_type": "execute_result",
          "data": {
            "text/plain": [
              "[<matplotlib.lines.Line2D at 0x7f317a15d7f0>]"
            ]
          },
          "metadata": {
            "tags": []
          },
          "execution_count": 18
        },
        {
          "output_type": "display_data",
          "data": {
            "image/png": "[encoded data removed]",
            "text/plain": [
              "<Figure size 432x288 with 1 Axes>"
            ]
          },
          "metadata": {
            "tags": []
          }
        }
      ]
    }
  ]
}
